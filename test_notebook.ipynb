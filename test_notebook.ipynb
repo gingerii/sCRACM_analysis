{
 "cells": [
  {
   "cell_type": "code",
   "execution_count": null,
   "metadata": {},
   "outputs": [],
   "source": []
  },
  {
   "cell_type": "code",
   "execution_count": 6,
   "metadata": {},
   "outputs": [
    {
     "name": "stdout",
     "output_type": "stream",
     "text": [
      "Obtaining file:///Users/iangingerich/Desktop/sCRACM_analysis_user\n",
      "  Preparing metadata (setup.py) ... \u001b[?25ldone\n",
      "\u001b[?25hRequirement already satisfied: sCRACM_analysis in /Users/iangingerich/Desktop/sCRACM_analysis_user (0.1.1)\n",
      "Requirement already satisfied: plotly>=3.5.0 in /Users/iangingerich/opt/anaconda3/lib/python3.7/site-packages (from sCRACM-analysis==0.1.1) (5.8.2)\n",
      "Requirement already satisfied: nested-lookup>=0.2.18 in /Users/iangingerich/opt/anaconda3/lib/python3.7/site-packages/nested_lookup-0.2.21-py3.7.egg (from sCRACM-analysis==0.1.1) (0.2.21)\n",
      "Requirement already satisfied: pandas>=0.23.4 in /Users/iangingerich/opt/anaconda3/lib/python3.7/site-packages (from sCRACM-analysis==0.1.1) (1.3.5)\n",
      "Requirement already satisfied: numpy>=1.15.3 in /Users/iangingerich/opt/anaconda3/lib/python3.7/site-packages (from sCRACM-analysis==0.1.1) (1.19.1)\n",
      "Requirement already satisfied: scipy>=1.2.0 in /Users/iangingerich/opt/anaconda3/lib/python3.7/site-packages (from sCRACM-analysis==0.1.1) (1.7.3)\n",
      "Requirement already satisfied: matplotlib>=3.1.2 in /Users/iangingerich/opt/anaconda3/lib/python3.7/site-packages (from sCRACM-analysis==0.1.1) (3.5.3)\n",
      "Requirement already satisfied: Pillow>=5.4.1 in /Users/iangingerich/opt/anaconda3/lib/python3.7/site-packages (from sCRACM-analysis==0.1.1) (6.2.0)\n",
      "Requirement already satisfied: seaborn>=0.9.0 in /Users/iangingerich/opt/anaconda3/lib/python3.7/site-packages (from sCRACM-analysis==0.1.1) (0.12.0)\n",
      "Requirement already satisfied: pyqrcode>=1.2.1 in /Users/iangingerich/opt/anaconda3/lib/python3.7/site-packages/PyQRCode-1.2.1-py3.7.egg (from sCRACM-analysis==0.1.1) (1.2.1)\n",
      "Requirement already satisfied: tables>=3.5.2 in /Users/iangingerich/opt/anaconda3/lib/python3.7/site-packages (from sCRACM-analysis==0.1.1) (3.5.2)\n",
      "Requirement already satisfied: xarray>=0.20.2 in /Users/iangingerich/opt/anaconda3/lib/python3.7/site-packages (from sCRACM-analysis==0.1.1) (0.20.2)\n",
      "Requirement already satisfied: packaging>=20.0 in /Users/iangingerich/opt/anaconda3/lib/python3.7/site-packages (from matplotlib>=3.1.2->sCRACM-analysis==0.1.1) (21.3)\n",
      "Requirement already satisfied: kiwisolver>=1.0.1 in /Users/iangingerich/opt/anaconda3/lib/python3.7/site-packages (from matplotlib>=3.1.2->sCRACM-analysis==0.1.1) (1.1.0)\n",
      "Requirement already satisfied: pyparsing>=2.2.1 in /Users/iangingerich/opt/anaconda3/lib/python3.7/site-packages (from matplotlib>=3.1.2->sCRACM-analysis==0.1.1) (2.4.2)\n",
      "Requirement already satisfied: fonttools>=4.22.0 in /Users/iangingerich/opt/anaconda3/lib/python3.7/site-packages (from matplotlib>=3.1.2->sCRACM-analysis==0.1.1) (4.37.3)\n",
      "Requirement already satisfied: cycler>=0.10 in /Users/iangingerich/opt/anaconda3/lib/python3.7/site-packages (from matplotlib>=3.1.2->sCRACM-analysis==0.1.1) (0.10.0)\n",
      "Requirement already satisfied: python-dateutil>=2.7 in /Users/iangingerich/opt/anaconda3/lib/python3.7/site-packages (from matplotlib>=3.1.2->sCRACM-analysis==0.1.1) (2.8.0)\n",
      "Requirement already satisfied: six in /Users/iangingerich/opt/anaconda3/lib/python3.7/site-packages (from nested-lookup>=0.2.18->sCRACM-analysis==0.1.1) (1.15.0)\n",
      "Requirement already satisfied: pytz>=2017.3 in /Users/iangingerich/opt/anaconda3/lib/python3.7/site-packages (from pandas>=0.23.4->sCRACM-analysis==0.1.1) (2019.3)\n",
      "Requirement already satisfied: tenacity>=6.2.0 in /Users/iangingerich/opt/anaconda3/lib/python3.7/site-packages (from plotly>=3.5.0->sCRACM-analysis==0.1.1) (8.0.1)\n",
      "Requirement already satisfied: typing_extensions in /Users/iangingerich/opt/anaconda3/lib/python3.7/site-packages (from seaborn>=0.9.0->sCRACM-analysis==0.1.1) (4.3.0)\n",
      "Requirement already satisfied: mock>=2.0 in /Users/iangingerich/opt/anaconda3/lib/python3.7/site-packages (from tables>=3.5.2->sCRACM-analysis==0.1.1) (3.0.5)\n",
      "Requirement already satisfied: numexpr>=2.6.2 in /Users/iangingerich/opt/anaconda3/lib/python3.7/site-packages (from tables>=3.5.2->sCRACM-analysis==0.1.1) (2.7.0)\n",
      "Requirement already satisfied: importlib-metadata in /Users/iangingerich/opt/anaconda3/lib/python3.7/site-packages (from xarray>=0.20.2->sCRACM-analysis==0.1.1) (0.23)\n",
      "Requirement already satisfied: setuptools in /Users/iangingerich/opt/anaconda3/lib/python3.7/site-packages (from kiwisolver>=1.0.1->matplotlib>=3.1.2->sCRACM-analysis==0.1.1) (41.4.0)\n",
      "Requirement already satisfied: zipp>=0.5 in /Users/iangingerich/opt/anaconda3/lib/python3.7/site-packages (from importlib-metadata->xarray>=0.20.2->sCRACM-analysis==0.1.1) (0.6.0)\n",
      "Requirement already satisfied: more-itertools in /Users/iangingerich/opt/anaconda3/lib/python3.7/site-packages (from zipp>=0.5->importlib-metadata->xarray>=0.20.2->sCRACM-analysis==0.1.1) (7.2.0)\n",
      "Installing collected packages: sCRACM-analysis\n",
      "  Attempting uninstall: sCRACM-analysis\n",
      "    Found existing installation: sCRACM-analysis 0.1.1\n",
      "    Uninstalling sCRACM-analysis-0.1.1:\n",
      "      Successfully uninstalled sCRACM-analysis-0.1.1\n",
      "  Running setup.py develop for sCRACM-analysis\n",
      "Successfully installed sCRACM-analysis-0.1.1\n"
     ]
    }
   ],
   "source": [
    "! pip install -e. sCRACM_analysis"
   ]
  },
  {
   "cell_type": "code",
   "execution_count": null,
   "metadata": {},
   "outputs": [],
   "source": []
  }
 ],
 "metadata": {
  "kernelspec": {
   "display_name": "Python 3",
   "language": "python",
   "name": "python3"
  },
  "language_info": {
   "codemirror_mode": {
    "name": "ipython",
    "version": 3
   },
   "file_extension": ".py",
   "mimetype": "text/x-python",
   "name": "python",
   "nbconvert_exporter": "python",
   "pygments_lexer": "ipython3",
   "version": "3.7.4"
  }
 },
 "nbformat": 4,
 "nbformat_minor": 2
}
